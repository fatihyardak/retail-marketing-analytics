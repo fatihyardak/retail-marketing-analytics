{
 "cells": [
  {
   "cell_type": "code",
   "execution_count": null,
   "id": "7f3ecde4",
   "metadata": {
    "vscode": {
     "languageId": "plaintext"
    }
   },
   "outputs": [],
   "source": [
    "path = \"\""
   ]
  }
 ],
 "metadata": {
  "language_info": {
   "name": "python"
  }
 },
 "nbformat": 4,
 "nbformat_minor": 5
}
